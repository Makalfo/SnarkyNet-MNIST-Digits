{
 "cells": [
  {
   "cell_type": "markdown",
   "metadata": {},
   "source": [
    "## MNIST Number Classification\n",
    "MNIST Number Classification"
   ]
  },
  {
   "cell_type": "code",
   "execution_count": 17,
   "metadata": {},
   "outputs": [],
   "source": [
    "# Import Libraries\n",
    "import tensorflow as tf\n",
    "import pandas as pd\n",
    "from tensorflow import keras\n",
    "from tensorflow.keras import layers\n",
    "from tensorflow.keras.datasets import mnist\n",
    "from matplotlib import pyplot as plt\n",
    "\n",
    "# Setup tensorflow GPUs\n",
    "gpu_devices = tf.config.experimental.list_physical_devices('GPU')\n",
    "for device in gpu_devices:\n",
    "    tf.config.experimental.set_memory_growth(device, True)\n",
    "\n",
    "# pandas chained assignment\n",
    "pd.options.mode.chained_assignment = None \n"
   ]
  },
  {
   "cell_type": "markdown",
   "metadata": {},
   "source": [
    "#### Load the MNIST Dataset from keras"
   ]
  },
  {
   "cell_type": "code",
   "execution_count": 18,
   "metadata": {},
   "outputs": [
    {
     "name": "stdout",
     "output_type": "stream",
     "text": [
      "Training Images Shape (60000, 28, 28)\n",
      "Test Images Shape (10000, 28, 28)\n"
     ]
    }
   ],
   "source": [
    "# Import the MNIST Dataset\n",
    "(train_images, train_labels), (test_images, test_labels) = mnist.load_data()\n",
    "\n",
    "print( f'Training Images Shape {train_images.shape}' )\n",
    "print( f'Test Images Shape {test_images.shape}' )"
   ]
  },
  {
   "cell_type": "markdown",
   "metadata": {},
   "source": [
    "##### Example of the MNIST Data"
   ]
  },
  {
   "cell_type": "code",
   "execution_count": 19,
   "metadata": {},
   "outputs": [
    {
     "name": "stdout",
     "output_type": "stream",
     "text": [
      "Image Label of 9\n"
     ]
    },
    {
     "data": {
      "image/png": "[encoded data removed]",
      "text/plain": [
       "<Figure size 432x288 with 1 Axes>"
      ]
     },
     "metadata": {
      "needs_background": "light"
     },
     "output_type": "display_data"
    }
   ],
   "source": [
    "print( f'Image Label of {train_labels[4]}' )\n",
    "digit = train_images[4]\n",
    "plt.imshow( digit, cmap=plt.cm.binary )\n",
    "plt.show()"
   ]
  },
  {
   "cell_type": "markdown",
   "metadata": {},
   "source": [
    "#### Create the Deep Neural Network\n",
    "Create a Deep Neural Network with 512 nodes in a dense layer and 10 as the output for the 10 classes"
   ]
  },
  {
   "cell_type": "code",
   "execution_count": 26,
   "metadata": {},
   "outputs": [],
   "source": [
    "# Model\n",
    "model = keras.Sequential( [ \n",
    "    layers.Dense( 512, activation='relu' ),\n",
    "    layers.Dense( 10, activation='softmax' )\n",
    "    ] )\n",
    "\n",
    "# Compiler\n",
    "model.compile(  optimizer='rmsprop', \n",
    "                loss='sparse_categorical_crossentropy', \n",
    "                metrics=['accuracy'] )\n"
   ]
  },
  {
   "cell_type": "markdown",
   "metadata": {},
   "source": [
    "#### Prepare the Images"
   ]
  },
  {
   "cell_type": "code",
   "execution_count": 27,
   "metadata": {},
   "outputs": [],
   "source": [
    "train_images = train_images.reshape((60000, 28 * 28))\n",
    "train_images = train_images.astype(\"float32\") / 255\n",
    "test_images = test_images.reshape((10000, 28 * 28))\n",
    "test_images = test_images.astype(\"float32\") / 255"
   ]
  },
  {
   "cell_type": "markdown",
   "metadata": {},
   "source": [
    "#### Fit the Model and Determine the Weights"
   ]
  },
  {
   "cell_type": "code",
   "execution_count": 29,
   "metadata": {},
   "outputs": [
    {
     "name": "stdout",
     "output_type": "stream",
     "text": [
      "Epoch 1/100\n",
      "469/469 [==============================] - 4s 8ms/step - loss: 0.0282 - accuracy: 0.9912\n",
      "Epoch 2/100\n",
      "469/469 [==============================] - 4s 8ms/step - loss: 0.0216 - accuracy: 0.9937\n",
      "Epoch 3/100\n",
      "469/469 [==============================] - 3s 7ms/step - loss: 0.0161 - accuracy: 0.9953\n",
      "Epoch 4/100\n",
      "469/469 [==============================] - 4s 8ms/step - loss: 0.0127 - accuracy: 0.9965\n",
      "Epoch 5/100\n",
      "469/469 [==============================] - 3s 7ms/step - loss: 0.0098 - accuracy: 0.9975\n",
      "Epoch 6/100\n",
      "469/469 [==============================] - 3s 7ms/step - loss: 0.0079 - accuracy: 0.9978\n",
      "Epoch 7/100\n",
      "469/469 [==============================] - 4s 8ms/step - loss: 0.0065 - accuracy: 0.9981\n",
      "Epoch 8/100\n",
      "469/469 [==============================] - 4s 7ms/step - loss: 0.0050 - accuracy: 0.9986\n",
      "Epoch 9/100\n",
      "469/469 [==============================] - 4s 8ms/step - loss: 0.0040 - accuracy: 0.9989\n",
      "Epoch 10/100\n",
      "469/469 [==============================] - 3s 7ms/step - loss: 0.0030 - accuracy: 0.9991\n",
      "Epoch 11/100\n",
      "469/469 [==============================] - 4s 8ms/step - loss: 0.0023 - accuracy: 0.9994\n",
      "Epoch 12/100\n",
      "469/469 [==============================] - 4s 8ms/step - loss: 0.0017 - accuracy: 0.9996\n",
      "Epoch 13/100\n",
      "469/469 [==============================] - 3s 7ms/step - loss: 0.0014 - accuracy: 0.9996\n",
      "Epoch 14/100\n",
      "469/469 [==============================] - 3s 7ms/step - loss: 0.0011 - accuracy: 0.9997\n",
      "Epoch 15/100\n",
      "469/469 [==============================] - 4s 7ms/step - loss: 7.1790e-04 - accuracy: 0.9998\n",
      "Epoch 16/100\n",
      "469/469 [==============================] - 3s 7ms/step - loss: 9.2095e-04 - accuracy: 0.9997\n",
      "Epoch 17/100\n",
      "469/469 [==============================] - 3s 7ms/step - loss: 5.5929e-04 - accuracy: 0.9998\n",
      "Epoch 18/100\n",
      "469/469 [==============================] - 4s 8ms/step - loss: 5.3037e-04 - accuracy: 0.9999\n",
      "Epoch 19/100\n",
      "469/469 [==============================] - 3s 7ms/step - loss: 4.2646e-04 - accuracy: 0.9999\n",
      "Epoch 20/100\n",
      "469/469 [==============================] - 3s 7ms/step - loss: 4.4534e-04 - accuracy: 0.9999\n",
      "Epoch 21/100\n",
      "469/469 [==============================] - 4s 8ms/step - loss: 3.1198e-04 - accuracy: 0.9999\n",
      "Epoch 22/100\n",
      "469/469 [==============================] - 4s 8ms/step - loss: 2.9319e-04 - accuracy: 0.9999\n",
      "Epoch 23/100\n",
      "469/469 [==============================] - 4s 8ms/step - loss: 3.7334e-04 - accuracy: 0.9999\n",
      "Epoch 24/100\n",
      "469/469 [==============================] - 3s 7ms/step - loss: 9.6902e-05 - accuracy: 1.0000\n",
      "Epoch 25/100\n",
      "469/469 [==============================] - 3s 7ms/step - loss: 1.0118e-04 - accuracy: 1.0000\n",
      "Epoch 26/100\n",
      "469/469 [==============================] - 4s 8ms/step - loss: 1.1214e-04 - accuracy: 1.0000\n",
      "Epoch 27/100\n",
      "469/469 [==============================] - 4s 7ms/step - loss: 1.6139e-04 - accuracy: 1.0000\n",
      "Epoch 28/100\n",
      "469/469 [==============================] - 4s 8ms/step - loss: 4.3844e-05 - accuracy: 1.0000\n",
      "Epoch 29/100\n",
      "469/469 [==============================] - 4s 8ms/step - loss: 3.2338e-05 - accuracy: 1.0000\n",
      "Epoch 30/100\n",
      "469/469 [==============================] - 4s 8ms/step - loss: 4.6845e-05 - accuracy: 1.0000\n",
      "Epoch 31/100\n",
      "469/469 [==============================] - 4s 8ms/step - loss: 9.2376e-05 - accuracy: 1.0000\n",
      "Epoch 32/100\n",
      "469/469 [==============================] - 4s 7ms/step - loss: 2.7993e-05 - accuracy: 1.0000\n",
      "Epoch 33/100\n",
      "469/469 [==============================] - 4s 8ms/step - loss: 2.8161e-05 - accuracy: 1.0000\n",
      "Epoch 34/100\n",
      "469/469 [==============================] - 3s 7ms/step - loss: 1.3843e-05 - accuracy: 1.0000\n",
      "Epoch 35/100\n",
      "469/469 [==============================] - 4s 8ms/step - loss: 2.9371e-05 - accuracy: 1.0000\n",
      "Epoch 36/100\n",
      "469/469 [==============================] - 4s 9ms/step - loss: 1.9638e-05 - accuracy: 1.0000\n",
      "Epoch 37/100\n",
      "469/469 [==============================] - 4s 8ms/step - loss: 2.4905e-06 - accuracy: 1.0000\n",
      "Epoch 38/100\n",
      "469/469 [==============================] - 4s 8ms/step - loss: 1.6704e-07 - accuracy: 1.0000\n",
      "Epoch 39/100\n",
      "469/469 [==============================] - 4s 8ms/step - loss: 8.3289e-08 - accuracy: 1.0000\n",
      "Epoch 40/100\n",
      "469/469 [==============================] - 4s 8ms/step - loss: 3.2659e-08 - accuracy: 1.0000\n",
      "Epoch 41/100\n",
      "469/469 [==============================] - 4s 8ms/step - loss: 2.0599e-08 - accuracy: 1.0000\n",
      "Epoch 42/100\n",
      "469/469 [==============================] - 4s 8ms/step - loss: 1.8011e-08 - accuracy: 1.0000\n",
      "Epoch 43/100\n",
      "469/469 [==============================] - 3s 7ms/step - loss: 1.6016e-08 - accuracy: 1.0000\n",
      "Epoch 44/100\n",
      "469/469 [==============================] - 3s 7ms/step - loss: 1.4770e-08 - accuracy: 1.0000\n",
      "Epoch 45/100\n",
      "469/469 [==============================] - 3s 7ms/step - loss: 1.3757e-08 - accuracy: 1.0000\n",
      "Epoch 46/100\n",
      "469/469 [==============================] - 3s 7ms/step - loss: 1.2898e-08 - accuracy: 1.0000\n",
      "Epoch 47/100\n",
      "469/469 [==============================] - 3s 7ms/step - loss: 1.2285e-08 - accuracy: 1.0000\n",
      "Epoch 48/100\n",
      "469/469 [==============================] - 4s 7ms/step - loss: 1.1565e-08 - accuracy: 1.0000\n",
      "Epoch 49/100\n",
      "469/469 [==============================] - 4s 8ms/step - loss: 1.0939e-08 - accuracy: 1.0000\n",
      "Epoch 50/100\n",
      "469/469 [==============================] - 4s 8ms/step - loss: 1.0596e-08 - accuracy: 1.0000\n",
      "Epoch 51/100\n",
      "469/469 [==============================] - 4s 7ms/step - loss: 1.0039e-08 - accuracy: 1.0000\n",
      "Epoch 52/100\n",
      "469/469 [==============================] - 3s 7ms/step - loss: 9.6003e-09 - accuracy: 1.0000\n",
      "Epoch 53/100\n",
      "469/469 [==============================] - 3s 7ms/step - loss: 9.2804e-09 - accuracy: 1.0000\n",
      "Epoch 54/100\n",
      "469/469 [==============================] - 3s 7ms/step - loss: 8.9606e-09 - accuracy: 1.0000\n",
      "Epoch 55/100\n",
      "469/469 [==============================] - 3s 7ms/step - loss: 8.6427e-09 - accuracy: 1.0000\n",
      "Epoch 56/100\n",
      "469/469 [==============================] - 4s 8ms/step - loss: 8.3466e-09 - accuracy: 1.0000\n",
      "Epoch 57/100\n",
      "469/469 [==============================] - 3s 7ms/step - loss: 8.1579e-09 - accuracy: 1.0000\n",
      "Epoch 58/100\n",
      "469/469 [==============================] - 4s 8ms/step - loss: 7.8460e-09 - accuracy: 1.0000\n",
      "Epoch 59/100\n",
      "469/469 [==============================] - 4s 8ms/step - loss: 7.6870e-09 - accuracy: 1.0000\n",
      "Epoch 60/100\n",
      "469/469 [==============================] - 3s 7ms/step - loss: 7.4506e-09 - accuracy: 1.0000\n",
      "Epoch 61/100\n",
      "469/469 [==============================] - 3s 7ms/step - loss: 7.2559e-09 - accuracy: 1.0000\n",
      "Epoch 62/100\n",
      "469/469 [==============================] - 3s 7ms/step - loss: 7.1585e-09 - accuracy: 1.0000\n",
      "Epoch 63/100\n",
      "469/469 [==============================] - 4s 8ms/step - loss: 6.9439e-09 - accuracy: 1.0000\n",
      "Epoch 64/100\n",
      "469/469 [==============================] - 3s 7ms/step - loss: 6.8088e-09 - accuracy: 1.0000\n",
      "Epoch 65/100\n",
      "469/469 [==============================] - 3s 7ms/step - loss: 6.6380e-09 - accuracy: 1.0000\n",
      "Epoch 66/100\n",
      "469/469 [==============================] - 4s 7ms/step - loss: 6.5446e-09 - accuracy: 1.0000\n",
      "Epoch 67/100\n",
      "469/469 [==============================] - 3s 7ms/step - loss: 6.4055e-09 - accuracy: 1.0000\n",
      "Epoch 68/100\n",
      "469/469 [==============================] - 4s 7ms/step - loss: 6.2088e-09 - accuracy: 1.0000\n",
      "Epoch 69/100\n",
      "469/469 [==============================] - 3s 7ms/step - loss: 6.1909e-09 - accuracy: 1.0000\n",
      "Epoch 70/100\n",
      "469/469 [==============================] - 3s 7ms/step - loss: 6.0399e-09 - accuracy: 1.0000\n",
      "Epoch 71/100\n",
      "469/469 [==============================] - 4s 8ms/step - loss: 5.9287e-09 - accuracy: 1.0000\n",
      "Epoch 72/100\n",
      "469/469 [==============================] - 4s 7ms/step - loss: 5.8254e-09 - accuracy: 1.0000\n",
      "Epoch 73/100\n",
      "469/469 [==============================] - 4s 8ms/step - loss: 5.7797e-09 - accuracy: 1.0000\n",
      "Epoch 74/100\n",
      "469/469 [==============================] - 3s 7ms/step - loss: 5.5989e-09 - accuracy: 1.0000\n",
      "Epoch 75/100\n",
      "469/469 [==============================] - 4s 8ms/step - loss: 5.6048e-09 - accuracy: 1.0000\n",
      "Epoch 76/100\n",
      "469/469 [==============================] - 4s 8ms/step - loss: 5.5472e-09 - accuracy: 1.0000\n",
      "Epoch 77/100\n",
      "469/469 [==============================] - 4s 7ms/step - loss: 5.4042e-09 - accuracy: 1.0000\n",
      "Epoch 78/100\n",
      "469/469 [==============================] - 4s 8ms/step - loss: 5.3545e-09 - accuracy: 1.0000\n",
      "Epoch 79/100\n",
      "469/469 [==============================] - 3s 7ms/step - loss: 5.2869e-09 - accuracy: 1.0000\n",
      "Epoch 80/100\n",
      "469/469 [==============================] - 4s 8ms/step - loss: 5.2710e-09 - accuracy: 1.0000\n",
      "Epoch 81/100\n",
      "469/469 [==============================] - 4s 8ms/step - loss: 5.1936e-09 - accuracy: 1.0000\n",
      "Epoch 82/100\n",
      "469/469 [==============================] - 4s 8ms/step - loss: 5.1081e-09 - accuracy: 1.0000\n",
      "Epoch 83/100\n",
      "469/469 [==============================] - 3s 7ms/step - loss: 5.0505e-09 - accuracy: 1.0000\n",
      "Epoch 84/100\n",
      "469/469 [==============================] - 4s 8ms/step - loss: 5.0664e-09 - accuracy: 1.0000\n",
      "Epoch 85/100\n",
      "469/469 [==============================] - 4s 8ms/step - loss: 5.0068e-09 - accuracy: 1.0000\n",
      "Epoch 86/100\n",
      "469/469 [==============================] - 4s 8ms/step - loss: 4.9253e-09 - accuracy: 1.0000\n",
      "Epoch 87/100\n",
      "469/469 [==============================] - 3s 7ms/step - loss: 4.8558e-09 - accuracy: 1.0000\n",
      "Epoch 88/100\n",
      "469/469 [==============================] - 4s 8ms/step - loss: 4.8260e-09 - accuracy: 1.0000\n",
      "Epoch 89/100\n",
      "469/469 [==============================] - 3s 7ms/step - loss: 4.7962e-09 - accuracy: 1.0000\n",
      "Epoch 90/100\n",
      "469/469 [==============================] - 3s 7ms/step - loss: 4.8260e-09 - accuracy: 1.0000\n",
      "Epoch 91/100\n",
      "469/469 [==============================] - 3s 7ms/step - loss: 4.7247e-09 - accuracy: 1.0000\n",
      "Epoch 92/100\n",
      "469/469 [==============================] - 4s 8ms/step - loss: 4.6949e-09 - accuracy: 1.0000\n",
      "Epoch 93/100\n",
      "469/469 [==============================] - 4s 8ms/step - loss: 4.6790e-09 - accuracy: 1.0000\n",
      "Epoch 94/100\n",
      "469/469 [==============================] - 4s 9ms/step - loss: 4.6531e-09 - accuracy: 1.0000\n",
      "Epoch 95/100\n",
      "469/469 [==============================] - 4s 8ms/step - loss: 4.5796e-09 - accuracy: 1.0000\n",
      "Epoch 96/100\n",
      "469/469 [==============================] - 3s 7ms/step - loss: 4.5836e-09 - accuracy: 1.0000\n",
      "Epoch 97/100\n",
      "469/469 [==============================] - 3s 7ms/step - loss: 4.5796e-09 - accuracy: 1.0000\n",
      "Epoch 98/100\n",
      "469/469 [==============================] - 3s 7ms/step - loss: 4.5816e-09 - accuracy: 1.0000\n",
      "Epoch 99/100\n",
      "469/469 [==============================] - 4s 8ms/step - loss: 4.4882e-09 - accuracy: 1.0000\n",
      "Epoch 100/100\n",
      "469/469 [==============================] - 3s 7ms/step - loss: 4.5240e-09 - accuracy: 1.0000\n"
     ]
    },
    {
     "data": {
      "text/plain": [
       "<keras.callbacks.History at 0x7fbb115c3b80>"
      ]
     },
     "execution_count": 29,
     "metadata": {},
     "output_type": "execute_result"
    }
   ],
   "source": [
    "model.fit(train_images, train_labels, epochs=100, batch_size=128)"
   ]
  },
  {
   "cell_type": "markdown",
   "metadata": {},
   "source": [
    "#### Evaluate the Accuracy"
   ]
  },
  {
   "cell_type": "code",
   "execution_count": 30,
   "metadata": {},
   "outputs": [
    {
     "name": "stdout",
     "output_type": "stream",
     "text": [
      "313/313 [==============================] - 2s 7ms/step - loss: 0.1566 - accuracy: 0.9831\n",
      "Test Accuracy: 0.9830999970436096\n"
     ]
    }
   ],
   "source": [
    "test_loss, test_acc = model.evaluate(test_images, test_labels)\n",
    "print( f'Test Accuracy: {test_acc}' )"
   ]
  },
  {
   "cell_type": "markdown",
   "metadata": {},
   "source": [
    "#### Obtain the Weights of the Model"
   ]
  },
  {
   "cell_type": "code",
   "execution_count": 36,
   "metadata": {},
   "outputs": [
    {
     "ename": "AttributeError",
     "evalue": "'list' object has no attribute 'tolist'",
     "output_type": "error",
     "traceback": [
      "\u001b[0;31m---------------------------------------------------------------------------\u001b[0m",
      "\u001b[0;31mAttributeError\u001b[0m                            Traceback (most recent call last)",
      "\u001b[0;32m/tmp/ipykernel_710216/3455671997.py\u001b[0m in \u001b[0;36m<module>\u001b[0;34m\u001b[0m\n\u001b[1;32m      1\u001b[0m \u001b[0;32mfor\u001b[0m \u001b[0mlayer\u001b[0m \u001b[0;32min\u001b[0m \u001b[0mmodel\u001b[0m\u001b[0;34m.\u001b[0m\u001b[0mlayers\u001b[0m\u001b[0;34m:\u001b[0m\u001b[0;34m\u001b[0m\u001b[0;34m\u001b[0m\u001b[0m\n\u001b[1;32m      2\u001b[0m     \u001b[0mweights\u001b[0m \u001b[0;34m=\u001b[0m \u001b[0mlayer\u001b[0m\u001b[0;34m.\u001b[0m\u001b[0mget_weights\u001b[0m\u001b[0;34m(\u001b[0m\u001b[0;34m)\u001b[0m\u001b[0;34m\u001b[0m\u001b[0;34m\u001b[0m\u001b[0m\n\u001b[0;32m----> 3\u001b[0;31m     \u001b[0mprint\u001b[0m\u001b[0;34m(\u001b[0m \u001b[0;34mf'Weights: { weights.tolist() }'\u001b[0m\u001b[0;34m)\u001b[0m\u001b[0;34m\u001b[0m\u001b[0;34m\u001b[0m\u001b[0m\n\u001b[0m",
      "\u001b[0;31mAttributeError\u001b[0m: 'list' object has no attribute 'tolist'"
     ]
    }
   ],
   "source": [
    "\n",
    "for layer in model.layers:\n",
    "    weights = layer.get_weights()\n",
    "    print( f'Weights: { weights[0].tolist() }')\n"
   ]
  }
 ],
 "metadata": {
  "interpreter": {
   "hash": "916dbcbb3f70747c44a77c7bcd40155683ae19c65e1c03b4aa3499c5328201f1"
  },
  "kernelspec": {
   "display_name": "Python 3.9.2 64-bit",
   "name": "python3"
  },
  "language_info": {
   "codemirror_mode": {
    "name": "ipython",
    "version": 3
   },
   "file_extension": ".py",
   "mimetype": "text/x-python",
   "name": "python",
   "nbconvert_exporter": "python",
   "pygments_lexer": "ipython3",
   "version": "3.9.5"
  }
 },
 "nbformat": 4,
 "nbformat_minor": 2
}
